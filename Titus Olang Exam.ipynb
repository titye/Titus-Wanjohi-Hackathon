{
 "cells": [
  {
   "cell_type": "markdown",
   "id": "1220ef22",
   "metadata": {},
   "source": [
    "AUTHOR : TITUS OLANG'\n",
    "\n",
    "INTRO   : THIS IS A PREDICT BASED ON SOUTH AFRICAN LANGUAGES. SOUTH AFRICA IS KNOWN TO HAVE 11 DISTINCT LANGUAGES.\n",
    "\n",
    "\n",
    "PROBLEM STATEMENT : THE PROJECT LOOKS TO USE NATURAL LANGUAGE PROCESSING TO HELP DETECT WHAT SOUTH AFRICAN LANGUAGE WAS IN THE TEXT\n"
   ]
  },
  {
   "cell_type": "code",
   "execution_count": 1,
   "id": "fd20ca46",
   "metadata": {},
   "outputs": [],
   "source": [
    "##IMPORT LIBRARIES\n",
    "\n",
    "import pandas as pd\n",
    "import numpy as np\n",
    "import re\n",
    "import seaborn as sns\n",
    "import matplotlib.pyplot as plt\n",
    "import warnings\n",
    "warnings.simplefilter(\"ignore\")\n",
    "# data preprocessing\n",
    "\n",
    "from sklearn.preprocessing import LabelEncoder\n",
    "from sklearn.feature_extraction.text import TfidfVectorizer\n",
    "from sklearn import metrics\n",
    "\n",
    "# classification model\n",
    "from sklearn.model_selection import train_test_split\n",
    "from sklearn.pipeline import Pipeline\n",
    "from sklearn.svm import LinearSVC\n",
    "from sklearn.linear_model import LogisticRegression\n",
    "from sklearn.ensemble import RandomForestClassifier\n",
    "from sklearn.model_selection import GridSearchCV, StratifiedKFold\n",
    "from sklearn.naive_bayes import MultinomialNB\n",
    "\n",
    "\n",
    "# Performance Evaluation\n",
    "\n",
    "from sklearn.metrics import classification_report, confusion_matrix, f1_score, precision_score, recall_score\n"
   ]
  },
  {
   "cell_type": "code",
   "execution_count": 2,
   "id": "dd428f68",
   "metadata": {},
   "outputs": [],
   "source": [
    "##DATA LOADING\n",
    "train_df = pd.read_csv(\"train_set.csv\")\n",
    "test_df=pd.read_csv('test_set.csv')"
   ]
  },
  {
   "cell_type": "markdown",
   "id": "056965db",
   "metadata": {},
   "source": [
    "## Data preprocessing"
   ]
  },
  {
   "cell_type": "code",
   "execution_count": 3,
   "id": "977a848c",
   "metadata": {},
   "outputs": [
    {
     "data": {
      "text/html": [
       "<div>\n",
       "<style scoped>\n",
       "    .dataframe tbody tr th:only-of-type {\n",
       "        vertical-align: middle;\n",
       "    }\n",
       "\n",
       "    .dataframe tbody tr th {\n",
       "        vertical-align: top;\n",
       "    }\n",
       "\n",
       "    .dataframe thead th {\n",
       "        text-align: right;\n",
       "    }\n",
       "</style>\n",
       "<table border=\"1\" class=\"dataframe\">\n",
       "  <thead>\n",
       "    <tr style=\"text-align: right;\">\n",
       "      <th></th>\n",
       "      <th>lang_id</th>\n",
       "      <th>text</th>\n",
       "    </tr>\n",
       "  </thead>\n",
       "  <tbody>\n",
       "    <tr>\n",
       "      <th>0</th>\n",
       "      <td>xho</td>\n",
       "      <td>umgaqo-siseko wenza amalungiselelo kumaziko ax...</td>\n",
       "    </tr>\n",
       "    <tr>\n",
       "      <th>1</th>\n",
       "      <td>xho</td>\n",
       "      <td>i-dha iya kuba nobulumko bokubeka umsebenzi na...</td>\n",
       "    </tr>\n",
       "    <tr>\n",
       "      <th>2</th>\n",
       "      <td>eng</td>\n",
       "      <td>the province of kwazulu-natal department of tr...</td>\n",
       "    </tr>\n",
       "    <tr>\n",
       "      <th>3</th>\n",
       "      <td>nso</td>\n",
       "      <td>o netefatša gore o ba file dilo ka moka tše le...</td>\n",
       "    </tr>\n",
       "    <tr>\n",
       "      <th>4</th>\n",
       "      <td>ven</td>\n",
       "      <td>khomishini ya ndinganyiso ya mbeu yo ewa maana...</td>\n",
       "    </tr>\n",
       "  </tbody>\n",
       "</table>\n",
       "</div>"
      ],
      "text/plain": [
       "  lang_id                                               text\n",
       "0     xho  umgaqo-siseko wenza amalungiselelo kumaziko ax...\n",
       "1     xho  i-dha iya kuba nobulumko bokubeka umsebenzi na...\n",
       "2     eng  the province of kwazulu-natal department of tr...\n",
       "3     nso  o netefatša gore o ba file dilo ka moka tše le...\n",
       "4     ven  khomishini ya ndinganyiso ya mbeu yo ewa maana..."
      ]
     },
     "execution_count": 3,
     "metadata": {},
     "output_type": "execute_result"
    }
   ],
   "source": [
    "#Check for a subset of the data\n",
    "train_df.head()"
   ]
  },
  {
   "cell_type": "code",
   "execution_count": 4,
   "id": "b242d361",
   "metadata": {},
   "outputs": [
    {
     "data": {
      "text/plain": [
       "array(['xho', 'eng', 'nso', 'ven', 'tsn', 'nbl', 'zul', 'ssw', 'tso',\n",
       "       'sot', 'afr'], dtype=object)"
      ]
     },
     "execution_count": 4,
     "metadata": {},
     "output_type": "execute_result"
    }
   ],
   "source": [
    "train_df['lang_id'].unique() #checking the number of language the data has"
   ]
  },
  {
   "cell_type": "code",
   "execution_count": 5,
   "id": "557e16aa",
   "metadata": {},
   "outputs": [
    {
     "data": {
      "text/plain": [
       "(33000, 2)"
      ]
     },
     "execution_count": 5,
     "metadata": {},
     "output_type": "execute_result"
    }
   ],
   "source": [
    "#Check for the shape\n",
    "train_df.shape"
   ]
  },
  {
   "cell_type": "code",
   "execution_count": 6,
   "id": "f313d84b",
   "metadata": {},
   "outputs": [
    {
     "name": "stdout",
     "output_type": "stream",
     "text": [
      "<class 'pandas.core.frame.DataFrame'>\n",
      "RangeIndex: 33000 entries, 0 to 32999\n",
      "Data columns (total 2 columns):\n",
      " #   Column   Non-Null Count  Dtype \n",
      "---  ------   --------------  ----- \n",
      " 0   lang_id  33000 non-null  object\n",
      " 1   text     33000 non-null  object\n",
      "dtypes: object(2)\n",
      "memory usage: 515.8+ KB\n"
     ]
    }
   ],
   "source": [
    "#Check for the datatype \n",
    "train_df.info()"
   ]
  },
  {
   "cell_type": "code",
   "execution_count": 7,
   "id": "6d3e2538",
   "metadata": {},
   "outputs": [
    {
     "data": {
      "text/plain": [
       "xho    3000\n",
       "eng    3000\n",
       "nso    3000\n",
       "ven    3000\n",
       "tsn    3000\n",
       "nbl    3000\n",
       "zul    3000\n",
       "ssw    3000\n",
       "tso    3000\n",
       "sot    3000\n",
       "afr    3000\n",
       "Name: lang_id, dtype: int64"
      ]
     },
     "execution_count": 7,
     "metadata": {},
     "output_type": "execute_result"
    }
   ],
   "source": [
    "train_df[\"lang_id\"].value_counts() #count the number of centans per language"
   ]
  },
  {
   "cell_type": "code",
   "execution_count": 8,
   "id": "bd882b52",
   "metadata": {},
   "outputs": [],
   "source": [
    "#Separating Independent and Dependent variables\n",
    "\n",
    "X = train_df[\"text\"]\n",
    "y = train_df[\"lang_id\"]"
   ]
  },
  {
   "cell_type": "code",
   "execution_count": 9,
   "id": "414f3b89",
   "metadata": {},
   "outputs": [],
   "source": [
    "# creating list for appending the preprocessed text\n",
    "data_list = []\n",
    "for text in X:\n",
    "        text = re.sub(r'[!@#$(),n\"%^*?:;~`0-9]', ' ', text)\n",
    "        text = re.sub(r'[[]]', ' ', text)\n",
    "        text = text.lower()\n",
    "        data_list.append(text)"
   ]
  },
  {
   "cell_type": "code",
   "execution_count": 10,
   "id": "c3e29453",
   "metadata": {},
   "outputs": [],
   "source": [
    "# Text preprocessing for test data\n",
    "data_list = []\n",
    "for text in test_df['text']:\n",
    "        text = re.sub(r'[!@#$(),n\"%^*?:;~`0-9]', ' ', text)\n",
    "        text = re.sub(r'[[]]', ' ', text)\n",
    "        text = text.lower()\n",
    "        data_list.append(text)"
   ]
  },
  {
   "cell_type": "markdown",
   "id": "f94bfdae",
   "metadata": {},
   "source": [
    "## MODELING"
   ]
  },
  {
   "cell_type": "code",
   "execution_count": 11,
   "id": "54cd159a",
   "metadata": {},
   "outputs": [],
   "source": [
    "# Splitting the data into the training and test data\n",
    "X_train, X_test, y_train, y_test = train_test_split(X, y, test_size = 0.2, random_state = 42)"
   ]
  },
  {
   "cell_type": "code",
   "execution_count": 12,
   "id": "712abf7c",
   "metadata": {},
   "outputs": [
    {
     "data": {
      "text/plain": [
       "<26400x125177 sparse matrix of type '<class 'numpy.float64'>'\n",
       "\twith 744909 stored elements in Compressed Sparse Row format>"
      ]
     },
     "execution_count": 12,
     "metadata": {},
     "output_type": "execute_result"
    }
   ],
   "source": [
    "#Label encoding\n",
    "vect = TfidfVectorizer()\n",
    "vect.fit_transform(X_train)"
   ]
  },
  {
   "cell_type": "markdown",
   "id": "806b9bb4",
   "metadata": {},
   "source": [
    "### Trying different models"
   ]
  },
  {
   "cell_type": "code",
   "execution_count": 13,
   "id": "3a8fcd36",
   "metadata": {},
   "outputs": [],
   "source": [
    "#Model Training and Prediction\n",
    "svc = LinearSVC()\n",
    "svc.fit(vect.transform(X_train), y_train)\n",
    "y_pred = svc.predict(vect.transform(X_test))"
   ]
  },
  {
   "cell_type": "code",
   "execution_count": 14,
   "id": "0b4a9d89",
   "metadata": {},
   "outputs": [],
   "source": [
    "#Instatiating the Tfidf vectorizer\n",
    "tfidf_vect = TfidfVectorizer(ngram_range=(1, 2),min_df = 2, max_features = 5000)"
   ]
  },
  {
   "cell_type": "code",
   "execution_count": 15,
   "id": "626fd35c",
   "metadata": {},
   "outputs": [],
   "source": [
    "#Transforming to numeric\n",
    "X_train = tfidf_vect.fit_transform(X_train).toarray() \n",
    "X_test = tfidf_vect.fit_transform(X_test).toarray() "
   ]
  },
  {
   "cell_type": "code",
   "execution_count": 16,
   "id": "96e7546a",
   "metadata": {},
   "outputs": [
    {
     "data": {
      "text/plain": [
       "LogisticRegression()"
      ]
     },
     "execution_count": 16,
     "metadata": {},
     "output_type": "execute_result"
    }
   ],
   "source": [
    "lreg = LogisticRegression()\n",
    "lreg.fit(X_train, y_train)"
   ]
  },
  {
   "cell_type": "code",
   "execution_count": 17,
   "id": "74dd6049",
   "metadata": {},
   "outputs": [
    {
     "name": "stdout",
     "output_type": "stream",
     "text": [
      "f1 train score: 0.9957318275216104\n",
      "f1 test score: 0.09019620952825225\n"
     ]
    }
   ],
   "source": [
    "# LogisticRegression\n",
    "y_pred_test = lreg.predict(X_test)\n",
    "y_pred_train = lreg.predict(X_train)\n",
    "f1score_train = f1_score(y_pred_train, y_train, average = 'macro')\n",
    "f1score = f1_score(y_test, y_pred_test, average= 'macro')\n",
    "print('f1 train score:', f1score_train)\n",
    "print('f1 test score:', f1score)"
   ]
  },
  {
   "cell_type": "code",
   "execution_count": 18,
   "id": "6420a7aa",
   "metadata": {},
   "outputs": [
    {
     "name": "stdout",
     "output_type": "stream",
     "text": [
      "f1 test score: 0.19021801230544338\n"
     ]
    }
   ],
   "source": [
    "#randomforest \n",
    "\n",
    "randomforest = RandomForestClassifier(n_estimators = 100, random_state = 42)\n",
    "randomforest = randomforest.fit(X_train,y_train)\n",
    "test_pred = randomforest.predict(X_test)\n",
    "f1score1 = f1_score(test_pred,y_test, average= 'macro')\n",
    "print('f1 test score:', f1score1)"
   ]
  },
  {
   "cell_type": "code",
   "execution_count": 19,
   "id": "77060706",
   "metadata": {},
   "outputs": [
    {
     "name": "stdout",
     "output_type": "stream",
     "text": [
      "              precision    recall  f1-score   support\n",
      "\n",
      "         afr       1.00      1.00      1.00       583\n",
      "         eng       1.00      1.00      1.00       615\n",
      "         nbl       0.99      0.99      0.99       583\n",
      "         nso       1.00      1.00      1.00       625\n",
      "         sot       1.00      1.00      1.00       618\n",
      "         ssw       1.00      1.00      1.00       584\n",
      "         tsn       1.00      1.00      1.00       598\n",
      "         tso       1.00      1.00      1.00       561\n",
      "         ven       1.00      1.00      1.00       634\n",
      "         xho       1.00      1.00      1.00       609\n",
      "         zul       0.99      0.99      0.99       590\n",
      "\n",
      "    accuracy                           1.00      6600\n",
      "   macro avg       1.00      1.00      1.00      6600\n",
      "weighted avg       1.00      1.00      1.00      6600\n",
      "\n"
     ]
    }
   ],
   "source": [
    "print(metrics.classification_report(y_test, y_pred))"
   ]
  },
  {
   "cell_type": "code",
   "execution_count": 20,
   "id": "ad54addd",
   "metadata": {},
   "outputs": [
    {
     "name": "stdout",
     "output_type": "stream",
     "text": [
      "Multinomial f1_score: 0.9970937238401433\n"
     ]
    }
   ],
   "source": [
    "f1score3 = f1_score(y_pred, y_test, average= 'macro')\n",
    "print('Multinomial f1_score:', f1score3)"
   ]
  },
  {
   "cell_type": "markdown",
   "id": "14365057",
   "metadata": {},
   "source": [
    "## Kaggle Submission"
   ]
  },
  {
   "cell_type": "code",
   "execution_count": 21,
   "id": "a5469f98",
   "metadata": {},
   "outputs": [],
   "source": [
    "X_Kaggle = test_df['text']"
   ]
  },
  {
   "cell_type": "code",
   "execution_count": 22,
   "id": "4b916eb2",
   "metadata": {},
   "outputs": [],
   "source": [
    "kaggle_predict = svc.predict(vect.transform(X_Kaggle))"
   ]
  },
  {
   "cell_type": "code",
   "execution_count": 23,
   "id": "af5650e6",
   "metadata": {},
   "outputs": [
    {
     "data": {
      "text/html": [
       "<div>\n",
       "<style scoped>\n",
       "    .dataframe tbody tr th:only-of-type {\n",
       "        vertical-align: middle;\n",
       "    }\n",
       "\n",
       "    .dataframe tbody tr th {\n",
       "        vertical-align: top;\n",
       "    }\n",
       "\n",
       "    .dataframe thead th {\n",
       "        text-align: right;\n",
       "    }\n",
       "</style>\n",
       "<table border=\"1\" class=\"dataframe\">\n",
       "  <thead>\n",
       "    <tr style=\"text-align: right;\">\n",
       "      <th></th>\n",
       "      <th>index</th>\n",
       "      <th>lang_id</th>\n",
       "    </tr>\n",
       "  </thead>\n",
       "  <tbody>\n",
       "    <tr>\n",
       "      <th>0</th>\n",
       "      <td>1</td>\n",
       "      <td>tsn</td>\n",
       "    </tr>\n",
       "    <tr>\n",
       "      <th>1</th>\n",
       "      <td>2</td>\n",
       "      <td>nbl</td>\n",
       "    </tr>\n",
       "    <tr>\n",
       "      <th>2</th>\n",
       "      <td>3</td>\n",
       "      <td>ven</td>\n",
       "    </tr>\n",
       "    <tr>\n",
       "      <th>3</th>\n",
       "      <td>4</td>\n",
       "      <td>ssw</td>\n",
       "    </tr>\n",
       "    <tr>\n",
       "      <th>4</th>\n",
       "      <td>5</td>\n",
       "      <td>afr</td>\n",
       "    </tr>\n",
       "  </tbody>\n",
       "</table>\n",
       "</div>"
      ],
      "text/plain": [
       "   index lang_id\n",
       "0      1     tsn\n",
       "1      2     nbl\n",
       "2      3     ven\n",
       "3      4     ssw\n",
       "4      5     afr"
      ]
     },
     "execution_count": 23,
     "metadata": {},
     "output_type": "execute_result"
    }
   ],
   "source": [
    "pred_df = pd.DataFrame(data=test_df['index'], columns=['index']) \n",
    "pred_df.insert(1, 'lang_id', kaggle_predict, allow_duplicates=False)\n",
    "\n",
    "pred_df.head()"
   ]
  },
  {
   "cell_type": "code",
   "execution_count": 24,
   "id": "6f438f24",
   "metadata": {},
   "outputs": [],
   "source": [
    "pred_df.to_csv( \"TitusO.csv\", index=False, quoting=3 )"
   ]
  },
  {
   "cell_type": "markdown",
   "id": "05296696",
   "metadata": {},
   "source": [
    "## CONCLUSION"
   ]
  },
  {
   "cell_type": "markdown",
   "id": "e3fffae0",
   "metadata": {},
   "source": [
    "The best model had an accuracy of 99.7% which is a good score to give conclusive results."
   ]
  },
  {
   "cell_type": "code",
   "execution_count": null,
   "id": "4f0cdb67",
   "metadata": {},
   "outputs": [],
   "source": []
  }
 ],
 "metadata": {
  "kernelspec": {
   "display_name": "Python 3 (ipykernel)",
   "language": "python",
   "name": "python3"
  },
  "language_info": {
   "codemirror_mode": {
    "name": "ipython",
    "version": 3
   },
   "file_extension": ".py",
   "mimetype": "text/x-python",
   "name": "python",
   "nbconvert_exporter": "python",
   "pygments_lexer": "ipython3",
   "version": "3.9.7"
  }
 },
 "nbformat": 4,
 "nbformat_minor": 5
}
